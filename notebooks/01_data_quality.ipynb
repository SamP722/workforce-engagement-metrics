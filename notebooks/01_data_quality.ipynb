{
 "cells": [
  {
   "cell_type": "markdown",
   "id": "a9a18652",
   "metadata": {},
   "source": [
    "# 01 — Data Quality & Cleaning\n",
    "\n",
    "> Repository: **workforce-planning-analysis**  \n",
    "> This notebook contains analyst-style prompts with space for your code answers.\n",
    "\n",
    "---\n"
   ]
  },
  {
   "cell_type": "code",
   "execution_count": null,
   "id": "50529678",
   "metadata": {},
   "outputs": [],
   "source": [
    "# Setup\n",
    "import pandas as pd\n",
    "import numpy as np\n",
    "from pathlib import Path\n",
    "\n",
    "DATA = Path('../data')  # adjust if needed\n",
    "\n",
    "# Common datasets (provided as synthetic samples)\n",
    "employees = pd.read_csv(DATA / 'employees.csv')\n",
    "schedule  = pd.read_csv(DATA / 'schedule.csv', parse_dates=['date'])\n",
    "forecast  = pd.read_csv(DATA / 'demand_forecast.csv', parse_dates=['date'])\n",
    "survey    = pd.read_csv(DATA / 'survey.csv', parse_dates=['date'])\n",
    "csat      = pd.read_csv(DATA / 'csat.csv', parse_dates=['date'])\n",
    "\n",
    "employees.head()"
   ]
  },
  {
   "cell_type": "markdown",
   "id": "229935ca",
   "metadata": {},
   "source": [
    "### Prompt\n",
    "Load the schedule and employee data. How many missing values are there per column? Produce a small table of counts.\n"
   ]
  },
  {
   "cell_type": "code",
   "execution_count": null,
   "id": "51257cc3",
   "metadata": {},
   "outputs": [],
   "source": [
    "\n"
   ]
  },
  {
   "cell_type": "markdown",
   "id": "68665821",
   "metadata": {},
   "source": [
    "### Prompt\n",
    "Find employees scheduled for more than one shift on the same day (duplicate shift assignments). Return employee_id, date, count.\n"
   ]
  },
  {
   "cell_type": "code",
   "execution_count": null,
   "id": "4a96203c",
   "metadata": {},
   "outputs": [],
   "source": [
    "\n"
   ]
  },
  {
   "cell_type": "markdown",
   "id": "032ac89a",
   "metadata": {},
   "source": [
    "### Prompt\n",
    "Calculate total scheduled hours per employee over the period and compare to their FTE value. Produce a summary with outliers.\n"
   ]
  },
  {
   "cell_type": "code",
   "execution_count": null,
   "id": "b9234213",
   "metadata": {},
   "outputs": [],
   "source": [
    "\n"
   ]
  }
 ],
 "metadata": {
  "language_info": {
   "name": "python"
  }
 },
 "nbformat": 4,
 "nbformat_minor": 5
}
