{
 "cells": [
  {
   "cell_type": "markdown",
   "id": "11b352d4",
   "metadata": {},
   "source": [
    "# 03 — Fairness & Volatility\n",
    "\n",
    "> Repository: **workforce-planning-analysis**  \n",
    "> This notebook contains analyst-style prompts with space for your code answers.\n",
    "\n",
    "---\n"
   ]
  },
  {
   "cell_type": "code",
   "execution_count": null,
   "id": "d2a205e6",
   "metadata": {},
   "outputs": [],
   "source": [
    "# Setup\n",
    "import pandas as pd\n",
    "import numpy as np\n",
    "from pathlib import Path\n",
    "\n",
    "DATA = Path('../data')  # adjust if needed\n",
    "\n",
    "# Common datasets (provided as synthetic samples)\n",
    "employees = pd.read_csv(DATA / 'employees.csv')\n",
    "schedule  = pd.read_csv(DATA / 'schedule.csv', parse_dates=['date'])\n",
    "forecast  = pd.read_csv(DATA / 'demand_forecast.csv', parse_dates=['date'])\n",
    "survey    = pd.read_csv(DATA / 'survey.csv', parse_dates=['date'])\n",
    "csat      = pd.read_csv(DATA / 'csat.csv', parse_dates=['date'])\n",
    "\n",
    "employees.head()"
   ]
  },
  {
   "cell_type": "markdown",
   "id": "daceb6d5",
   "metadata": {},
   "source": [
    "### Prompt\n",
    "For each employee, calculate the share of total hours that are closing shifts (close hours / total hours).\n"
   ]
  },
  {
   "cell_type": "code",
   "execution_count": null,
   "id": "847d3d18",
   "metadata": {},
   "outputs": [],
   "source": [
    "\n"
   ]
  },
  {
   "cell_type": "markdown",
   "id": "52b9da7a",
   "metadata": {},
   "source": [
    "### Prompt\n",
    "Compute the standard deviation of weekly hours for each employee to quantify schedule volatility. Who are the top 10 most volatile?\n"
   ]
  },
  {
   "cell_type": "code",
   "execution_count": null,
   "id": "6e76a334",
   "metadata": {},
   "outputs": [],
   "source": [
    "\n"
   ]
  },
  {
   "cell_type": "markdown",
   "id": "6c398421",
   "metadata": {},
   "source": [
    "### Prompt\n",
    "Create a histogram of close-shift shares across all employees.\n"
   ]
  },
  {
   "cell_type": "code",
   "execution_count": null,
   "id": "3b7d277d",
   "metadata": {},
   "outputs": [],
   "source": [
    "\n"
   ]
  }
 ],
 "metadata": {
  "language_info": {
   "name": "python"
  }
 },
 "nbformat": 4,
 "nbformat_minor": 5
}
