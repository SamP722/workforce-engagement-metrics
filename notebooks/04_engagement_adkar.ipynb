{
 "cells": [
  {
   "cell_type": "markdown",
   "id": "b294a1e1",
   "metadata": {},
   "source": [
    "# 04 — Engagement & Surveys (ADKAR + eNPS)\n",
    "\n",
    "> Repository: **workforce-planning-analysis**  \n",
    "> This notebook contains analyst-style prompts with space for your code answers.\n",
    "\n",
    "---\n"
   ]
  },
  {
   "cell_type": "code",
   "execution_count": null,
   "id": "25632ef2",
   "metadata": {},
   "outputs": [],
   "source": [
    "# Setup\n",
    "import pandas as pd\n",
    "import numpy as np\n",
    "from pathlib import Path\n",
    "\n",
    "DATA = Path('../data')  # adjust if needed\n",
    "\n",
    "# Common datasets (provided as synthetic samples)\n",
    "employees = pd.read_csv(DATA / 'employees.csv')\n",
    "schedule  = pd.read_csv(DATA / 'schedule.csv', parse_dates=['date'])\n",
    "forecast  = pd.read_csv(DATA / 'demand_forecast.csv', parse_dates=['date'])\n",
    "survey    = pd.read_csv(DATA / 'survey.csv', parse_dates=['date'])\n",
    "csat      = pd.read_csv(DATA / 'csat.csv', parse_dates=['date'])\n",
    "\n",
    "employees.head()"
   ]
  },
  {
   "cell_type": "markdown",
   "id": "17dd0929",
   "metadata": {},
   "source": [
    "### Prompt\n",
    "Compute the average score for each ADKAR component (Awareness, Desire, Knowledge, Ability, Reinforcement).\n"
   ]
  },
  {
   "cell_type": "code",
   "execution_count": null,
   "id": "4832ef0d",
   "metadata": {},
   "outputs": [],
   "source": [
    "\n"
   ]
  },
  {
   "cell_type": "markdown",
   "id": "9021d013",
   "metadata": {},
   "source": [
    "### Prompt\n",
    "Plot ADKAR component scores over time (daily or weekly averages) to see adoption trends.\n"
   ]
  },
  {
   "cell_type": "code",
   "execution_count": null,
   "id": "d3d47565",
   "metadata": {},
   "outputs": [],
   "source": [
    "\n"
   ]
  },
  {
   "cell_type": "markdown",
   "id": "080bb848",
   "metadata": {},
   "source": [
    "### Prompt\n",
    "What percentage of employees report intent-to-leave? Compare ADKAR averages between those with intent-to-leave vs those without.\n"
   ]
  },
  {
   "cell_type": "code",
   "execution_count": null,
   "id": "a6be4f04",
   "metadata": {},
   "outputs": [],
   "source": []
  }
 ],
 "metadata": {
  "language_info": {
   "name": "python"
  }
 },
 "nbformat": 4,
 "nbformat_minor": 5
}
