{
 "cells": [
  {
   "cell_type": "markdown",
   "id": "d3dcd863",
   "metadata": {},
   "source": [
    "# 02 — Coverage vs. Demand\n",
    "\n",
    "> Repository: **workforce-planning-analysis**  \n",
    "> This notebook contains analyst-style prompts with space for your code answers.\n",
    "\n",
    "---\n"
   ]
  },
  {
   "cell_type": "code",
   "execution_count": null,
   "id": "6a676f0a",
   "metadata": {},
   "outputs": [],
   "source": [
    "# Setup\n",
    "import pandas as pd\n",
    "import numpy as np\n",
    "from pathlib import Path\n",
    "\n",
    "DATA = Path('../data')  # adjust if needed\n",
    "\n",
    "# Common datasets (provided as synthetic samples)\n",
    "employees = pd.read_csv(DATA / 'employees.csv')\n",
    "schedule  = pd.read_csv(DATA / 'schedule.csv', parse_dates=['date'])\n",
    "forecast  = pd.read_csv(DATA / 'demand_forecast.csv', parse_dates=['date'])\n",
    "survey    = pd.read_csv(DATA / 'survey.csv', parse_dates=['date'])\n",
    "csat      = pd.read_csv(DATA / 'csat.csv', parse_dates=['date'])\n",
    "\n",
    "employees.head()"
   ]
  },
  {
   "cell_type": "markdown",
   "id": "3d79cd89",
   "metadata": {},
   "source": [
    "### Prompt\n",
    "Aggregate scheduled hours per store-day and join to forecasted demand. Create columns for `understaff_gap` and `overstaff_gap`.\n"
   ]
  },
  {
   "cell_type": "code",
   "execution_count": null,
   "id": "83954672",
   "metadata": {},
   "outputs": [],
   "source": [
    "\n"
   ]
  },
  {
   "cell_type": "markdown",
   "id": "08e1acef",
   "metadata": {},
   "source": [
    "### Prompt\n",
    "Plot forecasted vs. staffed hours for Store 201 over the last 8 weeks (use a simple line plot).\n"
   ]
  },
  {
   "cell_type": "code",
   "execution_count": null,
   "id": "2b2fd50f",
   "metadata": {},
   "outputs": [],
   "source": [
    "\n"
   ]
  },
  {
   "cell_type": "markdown",
   "id": "bbc6afc5",
   "metadata": {},
   "source": [
    "### Prompt\n",
    "Which store has the largest average understaff gap? Largest overstaff gap? Return a ranked table.\n"
   ]
  },
  {
   "cell_type": "code",
   "execution_count": null,
   "id": "64e61f0e",
   "metadata": {},
   "outputs": [],
   "source": [
    "\n"
   ]
  }
 ],
 "metadata": {
  "language_info": {
   "name": "python"
  }
 },
 "nbformat": 4,
 "nbformat_minor": 5
}
