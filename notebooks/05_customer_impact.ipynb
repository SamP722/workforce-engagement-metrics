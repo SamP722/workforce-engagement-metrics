{
 "cells": [
  {
   "cell_type": "markdown",
   "id": "f98436c0",
   "metadata": {},
   "source": [
    "# 05 — Customer Impact Signals\n",
    "\n",
    "> Repository: **workforce-planning-analysis**  \n",
    "> This notebook contains analyst-style prompts with space for your code answers.\n",
    "\n",
    "---\n"
   ]
  },
  {
   "cell_type": "code",
   "execution_count": null,
   "id": "ae4a7027",
   "metadata": {},
   "outputs": [],
   "source": [
    "# Setup\n",
    "import pandas as pd\n",
    "import numpy as np\n",
    "from pathlib import Path\n",
    "\n",
    "DATA = Path('../data')  # adjust if needed\n",
    "\n",
    "# Common datasets (provided as synthetic samples)\n",
    "employees = pd.read_csv(DATA / 'employees.csv')\n",
    "schedule  = pd.read_csv(DATA / 'schedule.csv', parse_dates=['date'])\n",
    "forecast  = pd.read_csv(DATA / 'demand_forecast.csv', parse_dates=['date'])\n",
    "survey    = pd.read_csv(DATA / 'survey.csv', parse_dates=['date'])\n",
    "csat      = pd.read_csv(DATA / 'csat.csv', parse_dates=['date'])\n",
    "\n",
    "employees.head()"
   ]
  },
  {
   "cell_type": "markdown",
   "id": "72ac6d82",
   "metadata": {},
   "source": [
    "### Prompt\n",
    "Join the store-day coverage gaps to CSAT scores. Keep `store_id`, `date`, `understaff_gap`, `overstaff_gap`, `csat`.\n"
   ]
  },
  {
   "cell_type": "code",
   "execution_count": null,
   "id": "0cbb94b3",
   "metadata": {},
   "outputs": [],
   "source": [
    "\n"
   ]
  },
  {
   "cell_type": "markdown",
   "id": "c1015b0e",
   "metadata": {},
   "source": [
    "### Prompt\n",
    "Plot average CSAT vs. average understaff gap by store (scatter). Add simple annotations for store ids.\n"
   ]
  },
  {
   "cell_type": "code",
   "execution_count": null,
   "id": "2fd66e18",
   "metadata": {},
   "outputs": [],
   "source": [
    "\n"
   ]
  },
  {
   "cell_type": "markdown",
   "id": "805c0f91",
   "metadata": {},
   "source": [
    "### Prompt\n",
    "Test whether days with >10 hours of understaffing have lower CSAT than days without (e.g., group means and simple t-test or non-parametric test).\n"
   ]
  },
  {
   "cell_type": "code",
   "execution_count": null,
   "id": "9460fe84",
   "metadata": {},
   "outputs": [],
   "source": [
    "\n"
   ]
  }
 ],
 "metadata": {
  "language_info": {
   "name": "python"
  }
 },
 "nbformat": 4,
 "nbformat_minor": 5
}
